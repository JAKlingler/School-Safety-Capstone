{
 "cells": [
  {
   "cell_type": "code",
   "execution_count": null,
   "id": "b9342648",
   "metadata": {},
   "outputs": [],
   "source": [
    "import os\n",
    "file_path = os.path.abspath(\"school_safety.csv\")\n",
    "print(file_path)"
   ]
  },
  {
   "cell_type": "code",
   "execution_count": null,
   "id": "616e9e17",
   "metadata": {},
   "outputs": [],
   "source": [
    "#Chrome\n",
    "from selenium import webdriver \n",
    "from selenium.webdriver.common.by import By\n",
    "from time import sleep\n",
    "from selenium.webdriver.chrome.options import Options\n",
    "import time\n",
    "import pandas as pd\n",
    "import numpy as np\n",
    "from tqdm import tqdm"
   ]
  },
  {
   "cell_type": "code",
   "execution_count": null,
   "id": "54e1cb14",
   "metadata": {},
   "outputs": [],
   "source": [
    "df = pd.read_csv(r'C:\\Users\\ryanb\\Semester 8\\DS 490 Capstone\\DS 490 Report Writing\\school_safety.csv')"
   ]
  },
  {
   "cell_type": "code",
   "execution_count": null,
   "id": "75ba3099",
   "metadata": {},
   "outputs": [],
   "source": [
    "df['Address'] = np.nan"
   ]
  },
  {
   "cell_type": "code",
   "execution_count": null,
   "id": "872d1d35",
   "metadata": {},
   "outputs": [],
   "source": [
    "options = Options()\n",
    "options.executable_path = \"C:/Users/ryanb/OneDrive/Desktop/Semester 8/DS 490 Data Science Capstone/chromedriver.exe\"\n",
    "options.add_argument(\"--incognito\")\n",
    "browser = webdriver.Chrome(options=options)"
   ]
  },
  {
   "cell_type": "code",
   "execution_count": null,
   "id": "d71c010f",
   "metadata": {},
   "outputs": [],
   "source": [
    "browser.get(\"https://gps-coordinates.org/\")\n",
    "\n",
    "prev_address = None\n",
    "refresh_count = 0\n",
    "\n",
    "for index, row in tqdm(df.iterrows()):\n",
    "    if pd.isnull(row['Address']):\n",
    "    \n",
    "        lat = str(row['LAT'])\n",
    "        lon = str(row['LNG'])\n",
    "        # Latitude\n",
    "        inputlat = browser.find_element(By.XPATH, '/html/body/table[5]/tbody/tr/td[1]/table[1]/tbody/tr[1]/td[2]/input')\n",
    "        inputlat.clear()\n",
    "        inputlat.send_keys(lat)\n",
    "        # Longitude\n",
    "        inputlon = browser.find_element(By.XPATH, '//*[@id=\"longitude\"]')\n",
    "        inputlon.clear() \n",
    "        inputlon.send_keys(lon)\n",
    "        inputbut = browser.find_element(By.XPATH, '//*[@id=\"btnGetAddressByCoordinates\"]')\n",
    "        time.sleep(3)\n",
    "        inputbut.click()\n",
    "        time.sleep(3)\n",
    "        address_field = browser.find_element(By.ID, \"address\")\n",
    "        address = address_field.get_attribute(\"value\")\n",
    "        print(address)\n",
    "        if address == prev_address:\n",
    "            print(\"Got same address as previous: \", address)  \n",
    "            raise ValueError(\"Duplicate address\")\n",
    "        time.sleep(3)\n",
    "        pd.set_option('display.max_colwidth', None)\n",
    "        # Update the Address column for this row\n",
    "        df.loc[index, 'Address'] = address\n",
    "\n",
    "        refresh_count += 1\n",
    "        if refresh_count == 15:\n",
    "            print(\"Refreshing browser...\")\n",
    "            browser.refresh()\n",
    "            refresh_count = 0"
   ]
  },
  {
   "cell_type": "code",
   "execution_count": null,
   "id": "4f661f15",
   "metadata": {},
   "outputs": [],
   "source": [
    "df.to_csv('school_safety_addresses', index=False)"
   ]
  }
 ],
 "metadata": {
  "kernelspec": {
   "display_name": "Python 3 (ipykernel)",
   "language": "python",
   "name": "python3"
  },
  "language_info": {
   "codemirror_mode": {
    "name": "ipython",
    "version": 3
   },
   "file_extension": ".py",
   "mimetype": "text/x-python",
   "name": "python",
   "nbconvert_exporter": "python",
   "pygments_lexer": "ipython3",
   "version": "3.9.12"
  }
 },
 "nbformat": 4,
 "nbformat_minor": 5
}
