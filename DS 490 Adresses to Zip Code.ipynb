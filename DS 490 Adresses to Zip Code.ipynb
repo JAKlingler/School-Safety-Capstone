{
 "cells": [
  {
   "cell_type": "code",
   "execution_count": 1,
   "id": "9425890a",
   "metadata": {},
   "outputs": [
    {
     "name": "stdout",
     "output_type": "stream",
     "text": [
      "C:\\Users\\ryanb\\Semester 8\\DS 490 Capstone\\DS 490 Report Writing\\school_safety_addresses.csv\n"
     ]
    }
   ],
   "source": [
    "import os\n",
    "file_path = os.path.abspath(\"school_safety_addresses.csv\")\n",
    "print(file_path)"
   ]
  },
  {
   "cell_type": "code",
   "execution_count": 2,
   "id": "0025eaf3",
   "metadata": {},
   "outputs": [],
   "source": [
    "import pandas as pd\n",
    "import numpy as np"
   ]
  },
  {
   "cell_type": "code",
   "execution_count": 3,
   "id": "ddea8626",
   "metadata": {},
   "outputs": [],
   "source": [
    "df = pd.read_csv(r'C:\\Users\\ryanb\\Semester 8\\DS 490 Capstone\\DS 490 Report Writing\\school_safety_addresses.csv')"
   ]
  },
  {
   "cell_type": "code",
   "execution_count": 4,
   "id": "0b8195b8",
   "metadata": {},
   "outputs": [],
   "source": [
    "def get_zipcode(address):\n",
    "    parts = address.split(', ')\n",
    "    for part in parts:\n",
    "        zip_code = part[-5:]\n",
    "        if len(zip_code) == 5 and zip_code.isnumeric():  \n",
    "            return zip_code\n",
    "    return np.nan\n",
    "        \n",
    "df['Zip_Code'] = df['Address'].apply(get_zipcode)"
   ]
  },
  {
   "cell_type": "code",
   "execution_count": 5,
   "id": "cc91bf40",
   "metadata": {},
   "outputs": [],
   "source": [
    "df.to_csv('school_safety_addresses_to_zip_code.csv')"
   ]
  }
 ],
 "metadata": {
  "kernelspec": {
   "display_name": "Python 3 (ipykernel)",
   "language": "python",
   "name": "python3"
  },
  "language_info": {
   "codemirror_mode": {
    "name": "ipython",
    "version": 3
   },
   "file_extension": ".py",
   "mimetype": "text/x-python",
   "name": "python",
   "nbconvert_exporter": "python",
   "pygments_lexer": "ipython3",
   "version": "3.9.12"
  }
 },
 "nbformat": 4,
 "nbformat_minor": 5
}
