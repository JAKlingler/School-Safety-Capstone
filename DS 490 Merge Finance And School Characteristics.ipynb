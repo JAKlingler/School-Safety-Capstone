{
 "cells": [
  {
   "cell_type": "code",
   "execution_count": null,
   "id": "5bd121d3",
   "metadata": {},
   "outputs": [],
   "source": [
    "import os\n",
    "file_path = os.path.abspath(\"school_safety_nces_data.csv\")\n",
    "print(file_path)"
   ]
  },
  {
   "cell_type": "code",
   "execution_count": null,
   "id": "c51fd767",
   "metadata": {},
   "outputs": [],
   "source": [
    "file_path = os.path.abspath(\"school_safety_kaggle_data.csv\")\n",
    "print(file_path)"
   ]
  },
  {
   "cell_type": "code",
   "execution_count": null,
   "id": "e51078f0",
   "metadata": {},
   "outputs": [],
   "source": [
    "file_path = os.path.abspath(\"school_safety_all_finance_data.csv\")\n",
    "print(file_path)"
   ]
  },
  {
   "cell_type": "code",
   "execution_count": null,
   "id": "3dda3209",
   "metadata": {},
   "outputs": [],
   "source": [
    "import pandas as pd\n",
    "from fuzzywuzzy import fuzz\n",
    "from fuzzywuzzy import process"
   ]
  },
  {
   "cell_type": "code",
   "execution_count": null,
   "id": "bf35fe2c",
   "metadata": {},
   "outputs": [],
   "source": [
    "pd.set_option('display.max_colwidth', None)\n",
    "pd.set_option('display.max_columns', None)\n",
    "\n",
    "# Master Key Data\n",
    "df_1 = pd.read_csv(r'C:\\Users\\ryanb\\Semester 8\\DS 490 Capstone\\DS 490 Report Writing\\school_safety_all_finance_data.csv')\n",
    "\n",
    "# Kaggle Data\n",
    "df_2 = pd.read_csv(r'C:\\Users\\ryanb\\Semester 8\\DS 490 Capstone\\DS 490 Report Writing\\school_safety_kaggle_data.csv')\n",
    "\n",
    "# NCES Data\n",
    "df_3 = pd.read_csv(r'C:\\Users\\ryanb\\Semester 8\\DS 490 Capstone\\DS 490 Report Writing\\school_safety_nces_data.csv')"
   ]
  },
  {
   "cell_type": "code",
   "execution_count": null,
   "id": "c3a579ad",
   "metadata": {},
   "outputs": [],
   "source": [
    "zips = df_1['Zip_Code'].copy()\n",
    "\n",
    "for i in range(len(zips)):\n",
    "    if len(str(zips[i])) == 4: \n",
    "        zips[i] = f\"0{zips[i]}\"\n",
    "        \n",
    "df_1['Zip_Code'] = zips\n",
    "\n",
    "print(df_1['Zip_Code'].to_string())"
   ]
  },
  {
   "cell_type": "code",
   "execution_count": null,
   "id": "912ded9e",
   "metadata": {},
   "outputs": [],
   "source": [
    "df_2 = df_2.loc[:, ['School Name', 'State_left', 'Incident_ID_left', 'IPR_EST', 'IPR_SE']]"
   ]
  },
  {
   "cell_type": "code",
   "execution_count": null,
   "id": "b6e81183",
   "metadata": {},
   "outputs": [],
   "source": [
    "df_2 = df_2.rename(columns={'School Name': 'Kaggle_School_Name',\n",
    "                            'State_left': 'Kaggle_State_Initials', \n",
    "                            'Incident_ID_left': 'Kaggle_Incident_ID', \n",
    "                            'IPR_EST': 'Kaggle_IPR_EST', \n",
    "                            'IPR_SE': 'Kaggle_IPR_SE'})"
   ]
  },
  {
   "cell_type": "code",
   "execution_count": null,
   "id": "a100e71e",
   "metadata": {},
   "outputs": [],
   "source": [
    "df_2.head(1)"
   ]
  },
  {
   "cell_type": "code",
   "execution_count": null,
   "id": "161a3bf2",
   "metadata": {},
   "outputs": [],
   "source": [
    "df_4 = pd.merge(df_1, df_2, how='left', left_on='Incident_ID', right_on='Kaggle_Incident_ID')"
   ]
  },
  {
   "cell_type": "code",
   "execution_count": null,
   "id": "7fba422c",
   "metadata": {},
   "outputs": [],
   "source": [
    "df_3 = df_3.rename(columns={'School Name': 'NCES_School_Name',\n",
    "                            'District Name': 'NCES_District_Name', \n",
    "                            'Type': 'NCES_Type', \n",
    "                            'Supervisory Union #': 'NCES_Supervisory_Union_Number', \n",
    "                            'Total Students:': 'NCES_Total_Students',\n",
    "                            'Classroom Teachers (FTE):': 'NCES_Classroom_Teachers_(FTE)',\n",
    "                           'Student/Teacher Ratio:': 'NCES_Student/Teacher_Ratio',\n",
    "                           'NCES School ID': 'NCES_School_ID',\n",
    "                           'State School ID': 'NCES_State_School_ID',\n",
    "                           'American Indian/Alaska Native': 'NCES_American_Indian_Alaska_Native',\n",
    "                           'Asian': 'NCES_Asian', 'Black': 'NCES_Black', 'Hispanic': 'NCES_Hispanic',\n",
    "                           'Native Hawaiian/Pacific Islander': 'NCES_Native_Hawaiian_Pacific_Islander',\n",
    "                           'White': 'NCES_Two_Or_More_Races', 'Male': 'NCES_Male', 'Female': 'NCES_Female',\n",
    "                           'Grade PK': 'NCES_Grade_PK', 'Grade KG': 'NCES_Grade_KG', 'Grade 1': 'NCES_Grade_1',\n",
    "                           'Grade 2': 'NCES_Grade_2', 'Grade 3': 'NCES_Grade_3', 'Grade 4': 'NCES_Grade_4',\n",
    "                           'Grade 5': 'NCES_Grade_5', 'Grade 6': 'NCES_Grade_6', 'Grade 7': 'NCES_Grade_7',\n",
    "                           'Grade 8': 'NCES_Grade_8', 'Grade 9': 'NCES_Grade_9', 'Grade 10': 'NCES_Grade_10',\n",
    "                           'Grade 11': 'NCES_Grade_11', 'Grade 12': 'NCES_Grade_12',})"
   ]
  },
  {
   "cell_type": "code",
   "execution_count": null,
   "id": "43910aa6",
   "metadata": {},
   "outputs": [],
   "source": [
    "df_3 = df_3.loc[:, [\"Incident_ID\", 'Kaggle_IPR_EST', 'Kaggle_IPR_SE', 'NCES_District_Name',\n",
    "                   'NCES_Total_Students', 'NCES_Classroom_Teachers_(FTE)', 'NCES_Student/Teacher_Ratio',\n",
    "                   'NCES_American_Indian_Alaska_Native', 'NCES_Asian', 'NCES_Black', 'NCES_Hispanic',\n",
    "                   'NCES_Native_Hawaiian_Pacific_Islander', 'NCES_Two_Or_More_Races', 'NCES_Male', 'NCES_Female',\n",
    "                   'NCES_Grade_PK', 'NCES_Grade_KG', 'NCES_Grade_1', 'NCES_Grade_2','NCES_Grade_3',\n",
    "                   'NCES_Grade_4', 'NCES_Grade_5', 'NCES_Grade_6', 'NCES_Grade_7', 'NCES_Grade_8', 'NCES_Grade_9',\n",
    "                   'NCES_Grade_10', 'NCES_Grade_11', 'NCES_Grade_12',]]"
   ]
  },
  {
   "cell_type": "code",
   "execution_count": null,
   "id": "886fdbec",
   "metadata": {},
   "outputs": [],
   "source": [
    "df_4 = pd.merge(df_1, df_3, how='left', left_on='Incident_ID', right_on='Incident_ID')"
   ]
  },
  {
   "cell_type": "code",
   "execution_count": null,
   "id": "b9acc4bb",
   "metadata": {},
   "outputs": [],
   "source": [
    "len(df_4)"
   ]
  },
  {
   "cell_type": "code",
   "execution_count": null,
   "id": "52087c74",
   "metadata": {},
   "outputs": [],
   "source": [
    "df_4.to_csv('school_safety_all_data_merged.csv')"
   ]
  }
 ],
 "metadata": {
  "kernelspec": {
   "display_name": "Python 3 (ipykernel)",
   "language": "python",
   "name": "python3"
  },
  "language_info": {
   "codemirror_mode": {
    "name": "ipython",
    "version": 3
   },
   "file_extension": ".py",
   "mimetype": "text/x-python",
   "name": "python",
   "nbconvert_exporter": "python",
   "pygments_lexer": "ipython3",
   "version": "3.9.12"
  }
 },
 "nbformat": 4,
 "nbformat_minor": 5
}
